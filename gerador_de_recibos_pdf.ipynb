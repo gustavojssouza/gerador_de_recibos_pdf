{
 "cells": [
  {
   "cell_type": "code",
   "execution_count": null,
   "id": "2b77eb74",
   "metadata": {},
   "outputs": [],
   "source": [
    "# Sistema Gerador de recibo simplificado\n",
    "\n",
    "#Informações do recebedor\n",
    "recebedor_nome = input('Informe o nome completo do recebedor: ')\n",
    "recebedor_cpf = input('Informe o CPF do recebedor: ')\n",
    "\n",
    "# Informações do Pagador\n",
    "pagador_nome = input('Informe o nome completo do pagador: ')\n",
    "pagador_cpf = input('Informe o CPF do pagador: ')\n",
    "\n",
    "# Informações de valor, forma de pagamento e serviço executado\n",
    "valor = input('Informe o valor: ')\n",
    "forma_pagamento = input('Informe a forma de pagamento: ')\n",
    "servico_detalhe = input('Informe o serviço realizado: ')\n",
    "\n",
    "# Informações de dados para impressão do recibo\n",
    "texto_recibo = f'Pelo presente, eu, {recebedor_nome}, inscrito no CPF sob nº {recebedor_cpf}, declaro que RECEBI \\\n",
    "na data de hoje, o valor de R$ {valor}, por meio de pagamento {forma_pagamento}, de {pagador_nome}, inscrito\\\n",
    "no CPF sob nº {pagador_cpf}, referente ao {servico_detalhe}.'"
   ]
  },
  {
   "cell_type": "code",
   "execution_count": null,
   "id": "7e7d7918",
   "metadata": {},
   "outputs": [],
   "source": [
    "# Passo a passo para criar um PDF para impressão\n",
    "# utilização de uma biblioteca para utilização da emissão do recibo em PDF\n",
    "\n",
    "from fpdf import FPDF\n",
    "\n",
    "pdf = FPDF()\n",
    "pdf.add_page()\n",
    "pdf.ln(50)\n",
    "pdf.image('logo.jpg', 83, 8, 33)\n",
    "pdf.set_font('times', 'B', 20)\n",
    "pdf.cell(180, 10, \"RECIBO\", align=\"C\")\n",
    "\n",
    "pdf.ln(20)\n",
    "pdf.set_font(\"times\",\"\", 14)\n",
    "pdf.multi_cell(190, 10, texto_recibo)\n",
    "\n",
    "pdf.ln(10)\n",
    "pdf.cell(190, 10, \"Sendo expressão de verdade e sem qualquer coação, firmo o presente.\")\n",
    "\n",
    "pdf.ln(40)\n",
    "pdf.cell(180, 10, \"____________________, ___, de ____ de ______\", align=\"C\")\n",
    "\n",
    "pdf.ln(40)\n",
    "pdf.cell(180, 10, \"____________________________________________\", align=\"C\")\n",
    "\n",
    "pdf.ln(7)\n",
    "pdf.cell(180, 10, recebedor_nome, align=\"C\")\n",
    "pdf.output(\"impressao_recibo.pdf\")"
   ]
  }
 ],
 "metadata": {
  "kernelspec": {
   "display_name": "Python 3 (ipykernel)",
   "language": "python",
   "name": "python3"
  },
  "language_info": {
   "codemirror_mode": {
    "name": "ipython",
    "version": 3
   },
   "file_extension": ".py",
   "mimetype": "text/x-python",
   "name": "python",
   "nbconvert_exporter": "python",
   "pygments_lexer": "ipython3",
   "version": "3.10.4"
  }
 },
 "nbformat": 4,
 "nbformat_minor": 5
}
